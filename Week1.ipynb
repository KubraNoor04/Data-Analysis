{
  "nbformat": 4,
  "nbformat_minor": 0,
  "metadata": {
    "colab": {
      "provenance": []
    },
    "kernelspec": {
      "name": "python3",
      "display_name": "Python 3"
    },
    "language_info": {
      "name": "python"
    }
  },
  "cells": [
    {
      "cell_type": "code",
      "execution_count": 2,
      "metadata": {
        "id": "NeKs-b8XKMUg"
      },
      "outputs": [],
      "source": [
        "import numpy as np"
      ]
    },
    {
      "cell_type": "code",
      "source": [
        "arr = np.array([[1,2,3,4],[5,6,7,8]])\n",
        "arr"
      ],
      "metadata": {
        "colab": {
          "base_uri": "https://localhost:8080/"
        },
        "id": "6hV6NUu9ZHBd",
        "outputId": "1c9fa12d-6c49-40bd-ec79-3d072c9c4e5a"
      },
      "execution_count": 7,
      "outputs": [
        {
          "output_type": "execute_result",
          "data": {
            "text/plain": [
              "array([[1, 2, 3, 4],\n",
              "       [5, 6, 7, 8]])"
            ]
          },
          "metadata": {},
          "execution_count": 7
        }
      ]
    },
    {
      "cell_type": "code",
      "source": [
        "num_dimensions = arr.ndim\n",
        "num_dimensions"
      ],
      "metadata": {
        "colab": {
          "base_uri": "https://localhost:8080/"
        },
        "id": "zmCqmNhOZeda",
        "outputId": "2bd87667-9f23-47ea-c8f1-8136ce5d3bc9"
      },
      "execution_count": 8,
      "outputs": [
        {
          "output_type": "execute_result",
          "data": {
            "text/plain": [
              "2"
            ]
          },
          "metadata": {},
          "execution_count": 8
        }
      ]
    },
    {
      "cell_type": "code",
      "source": [
        "arr.shape"
      ],
      "metadata": {
        "colab": {
          "base_uri": "https://localhost:8080/"
        },
        "id": "KFgPwyBMZ0oY",
        "outputId": "084fc05b-d548-455b-cecc-c3585914bec2"
      },
      "execution_count": 9,
      "outputs": [
        {
          "output_type": "execute_result",
          "data": {
            "text/plain": [
              "(2, 4)"
            ]
          },
          "metadata": {},
          "execution_count": 9
        }
      ]
    },
    {
      "cell_type": "code",
      "source": [
        "arr = np.array([[1,2,3,4,5,6,7,8,9,10]])\n",
        "arr[:] = 10\n",
        "arr"
      ],
      "metadata": {
        "id": "QveZT3x7Z3nR"
      },
      "execution_count": null,
      "outputs": []
    },
    {
      "cell_type": "code",
      "source": [
        "arr = np.array([[1,2,3,4,5],[6,7,8,9,10]])\n",
        "arr[1][4]\n"
      ],
      "metadata": {
        "colab": {
          "base_uri": "https://localhost:8080/"
        },
        "id": "DOmJK6_KbINe",
        "outputId": "fb623cfa-d990-4782-fd59-2de17e22ea9c"
      },
      "execution_count": 7,
      "outputs": [
        {
          "output_type": "execute_result",
          "data": {
            "text/plain": [
              "10"
            ]
          },
          "metadata": {},
          "execution_count": 7
        }
      ]
    },
    {
      "cell_type": "markdown",
      "source": [
        "\n",
        "\n",
        "---\n",
        "\n",
        "\n",
        "**1-You are given a soduko list, sudoku_list is a Python list containing a sudoku game. Change sudoku_list into a NumPy array and give the type of new soduko_list:**\n",
        "\n",
        "**Input:**\n",
        "\n",
        "`sudoku_list= [[0, 0, 4, 3, 0, 0, 2, 0, 9],\n",
        " [0, 0, 5, 0, 0, 9, 0, 0, 1],\n",
        " [0, 7, 0, 0, 6, 0, 0, 4, 3],\n",
        " [0, 0, 6, 0, 0, 2, 0, 8, 7],\n",
        " [1, 9, 0, 0, 0, 7, 4, 0, 0],\n",
        " [0, 5, 0, 0, 8, 3, 0, 0, 0],\n",
        " [6, 0, 0, 0, 0, 0, 1, 0, 5],\n",
        " [0, 0, 3, 5, 0, 8, 6, 9, 0],\n",
        " [0, 4, 2, 9, 1, 0, 3, 0, 0]]`\n",
        "\n",
        "\n",
        " **Desired output:**\n",
        "`<class 'numpy.ndarray'>`\n",
        "\n",
        "**Instructions:**\n",
        "* Import NumPy using its generally accepted alias.\n",
        "\n",
        "* Convert sudoku_list into a NumPy array called sudoku_array.\n",
        "\n",
        "* Print the class `type()` of sudoku_array to check that your code has worked properly."
      ],
      "metadata": {
        "id": "LFnArQjBvyVt"
      }
    },
    {
      "cell_type": "code",
      "source": [
        "sudoku_list= [[0, 0, 4, 3, 0, 0, 2, 0, 9],\n",
        "              [0, 0, 5, 0, 0, 9, 0, 0, 1],\n",
        "               [0, 7, 0, 0, 6, 0, 0, 4, 3],\n",
        "               [0, 0, 6, 0, 0, 2, 0, 8, 7],\n",
        "               [1, 9, 0, 0, 0, 7, 4, 0, 0],\n",
        "               [0, 5, 0, 0, 8, 3, 0, 0, 0],\n",
        "               [6, 0, 0, 0, 0, 0, 1, 0, 5],\n",
        "               [0, 0, 3, 5, 0, 8, 6, 9, 0],\n",
        "               [0, 4, 2, 9, 1, 0, 3, 0, 0]]\n",
        "arr = np.array(sudoku_list)"
      ],
      "metadata": {
        "id": "91Bt_6PRvzaw"
      },
      "execution_count": 18,
      "outputs": []
    },
    {
      "cell_type": "code",
      "source": [
        "print(type(arr))\n"
      ],
      "metadata": {
        "colab": {
          "base_uri": "https://localhost:8080/"
        },
        "id": "pmiIpvOaxCPO",
        "outputId": "0421b608-30a2-4a52-b100-f336b0a235ef"
      },
      "execution_count": 19,
      "outputs": [
        {
          "output_type": "stream",
          "name": "stdout",
          "text": [
            "<class 'numpy.ndarray'>\n"
          ]
        }
      ]
    },
    {
      "cell_type": "markdown",
      "source": [
        "\n",
        "\n",
        "---\n",
        "\n",
        "\n",
        "\n",
        "**2- Extract all odd numbers from given arr :**                                                                          \n",
        "\n",
        "**Input:**\n",
        "` arr = np.array([0, 1, 2, 3, 4, 5, 6, 7, 8, 9])`\n",
        "\n",
        "\n",
        "**Desired output:**\n",
        "`array([1, 3, 5, 7, 9])`\n",
        "\n",
        "\n",
        "\n"
      ],
      "metadata": {
        "id": "Y_lbmccEw9RS"
      }
    },
    {
      "cell_type": "code",
      "source": [
        "arr = np.array([0, 1, 2, 3, 4, 5, 6, 7, 8, 9])\n",
        "arr[1::2]\n"
      ],
      "metadata": {
        "colab": {
          "base_uri": "https://localhost:8080/"
        },
        "id": "jlblwHJkxrv0",
        "outputId": "d1442969-c065-4b1d-d6e9-ddb4319ee567"
      },
      "execution_count": 21,
      "outputs": [
        {
          "output_type": "execute_result",
          "data": {
            "text/plain": [
              "array([1, 3, 5, 7, 9])"
            ]
          },
          "metadata": {},
          "execution_count": 21
        }
      ]
    },
    {
      "cell_type": "markdown",
      "source": [
        "\n",
        "---\n",
        "\n",
        "\n",
        "**3- Create and print an array filled with zeros called zero_array, which has two rows and four columns.**\n",
        "\n",
        "**Also Create and print an array of random floats between 0 and 1 called random_array, which has three rows and six columns.**"
      ],
      "metadata": {
        "id": "gw-EKli6x6hn"
      }
    },
    {
      "cell_type": "code",
      "source": [
        "\n",
        "# Create and print an array filled with zeros (2 rows, 4 columns)\n",
        "zero_array = np.zeros((2, 4))\n",
        "print(\"Zero Array:\")\n",
        "print(zero_array)\n",
        "\n"
      ],
      "metadata": {
        "colab": {
          "base_uri": "https://localhost:8080/"
        },
        "id": "0sfMeGEvyAqU",
        "outputId": "cd3e9a87-b2ae-458a-b17e-b1e10780db3e"
      },
      "execution_count": 22,
      "outputs": [
        {
          "output_type": "stream",
          "name": "stdout",
          "text": [
            "Zero Array:\n",
            "[[0. 0. 0. 0.]\n",
            " [0. 0. 0. 0.]]\n"
          ]
        }
      ]
    },
    {
      "cell_type": "code",
      "source": [
        "# Create and print an array of random floats between 0 and 1 (3 rows, 6 columns)\n",
        "random_array = np.random.rand(3, 6)\n",
        "print(\"\\nRandom Array:\")\n",
        "print(random_array)\n"
      ],
      "metadata": {
        "colab": {
          "base_uri": "https://localhost:8080/"
        },
        "id": "3-siQV_DyOyV",
        "outputId": "07869e34-de33-4c9b-b3c2-38c439cecb1b"
      },
      "execution_count": 23,
      "outputs": [
        {
          "output_type": "stream",
          "name": "stdout",
          "text": [
            "\n",
            "Random Array:\n",
            "[[0.98702144 0.30646309 0.96460491 0.23622632 0.40124139 0.92147213]\n",
            " [0.72656746 0.40708393 0.33440606 0.83980028 0.7488147  0.49334541]\n",
            " [0.5710311  0.14998181 0.04136169 0.95801688 0.10030505 0.25730315]]\n"
          ]
        }
      ]
    },
    {
      "cell_type": "markdown",
      "source": [
        "[link text](https://)\n",
        "\n",
        "---\n",
        "\n",
        "\n",
        "\n",
        "**4- Create a scatter plot with the values from doubling_array on the y-axis.**\n",
        "\n",
        "`doubling_array = [1, 2, 4, 8, 16, 32, 64, 128, 256, 512]`\n",
        "\n",
        "Recall that a scatter plot can be created using the following code:\n",
        "\n",
        "\n",
        "```\n",
        "# plt.scatter(x_values, y_values)\n",
        "plt.show()\n",
        "```\n",
        "\n",
        "**With doubling_array on the y-axis, you now need values for the x-axis, which you can create with np.arange()!**\n",
        "\n",
        "**Remember to import numpy as np, and matplotlib.pyplot as plt for this.**"
      ],
      "metadata": {
        "id": "gw5yX9DkyiBp"
      }
    },
    {
      "cell_type": "code",
      "source": [
        "import matplotlib.pyplot as plt\n",
        "\n",
        "doubling_array = [1, 2, 4, 8, 16, 32, 64, 128, 256, 512]\n",
        "othey_x = np.arange(10)\n",
        "figure= plt.scatter(othey_x, doubling_array)\n",
        "plt.show(figure)\n",
        "plt.xlabel('X-axis label')\n",
        "plt.ylabel('Y-axis label')\n"
      ],
      "metadata": {
        "colab": {
          "base_uri": "https://localhost:8080/",
          "height": 885
        },
        "id": "jnHGAy83yVPu",
        "outputId": "10e19f92-383b-4d3b-b7dc-2995e08e9840"
      },
      "execution_count": 27,
      "outputs": [
        {
          "output_type": "display_data",
          "data": {
            "text/plain": [
              "<Figure size 640x480 with 1 Axes>"
            ],
            "image/png": "[encoded data removed]"
          },
          "metadata": {}
        },
        {
          "output_type": "execute_result",
          "data": {
            "text/plain": [
              "Text(0, 0.5, 'Y-axis label')"
            ]
          },
          "metadata": {},
          "execution_count": 27
        },
        {
          "output_type": "display_data",
          "data": {
            "text/plain": [
              "<Figure size 640x480 with 1 Axes>"
            ],
            "image/png": "[encoded data removed]"
          },
          "metadata": {}
        }
      ]
    },
    {
      "cell_type": "markdown",
      "source": [
        "**5- Create a 2×3 numpy array of all True’s**"
      ],
      "metadata": {
        "id": "fF3JQtpSz7oq"
      }
    },
    {
      "cell_type": "code",
      "source": [
        "arr = np.full((2,3),True)\n",
        "arr"
      ],
      "metadata": {
        "colab": {
          "base_uri": "https://localhost:8080/"
        },
        "id": "H-F6T9Yq0EMy",
        "outputId": "15eb0664-75bd-4a2b-8f12-cad7b0027bd1"
      },
      "execution_count": 29,
      "outputs": [
        {
          "output_type": "execute_result",
          "data": {
            "text/plain": [
              "array([[ True,  True,  True],\n",
              "       [ True,  True,  True]])"
            ]
          },
          "metadata": {},
          "execution_count": 29
        }
      ]
    },
    {
      "cell_type": "markdown",
      "source": [
        "\n",
        "\n",
        "---\n",
        "\n",
        "**6- Replace items that satisfy a condition with another value in numpy array:**\n",
        "\n",
        "**Question: Replace all odd numbers in arr with -1**\n",
        "\n",
        "\n",
        "```\n",
        "input: arr = np.array([0, 1, 2, 3, 4, 5, 6, 7, 8, 9])\n",
        "Desired Output: array([ 0, -1,  2, -1,  4, -1,  6, -1,  8, -1])\n",
        "```\n",
        "\n",
        "\n"
      ],
      "metadata": {
        "id": "5CD2s5RI0iTv"
      }
    },
    {
      "cell_type": "code",
      "source": [
        "arr = np.array([0, 1, 2, 3, 4, 5, 6, 7, 8, 9])\n",
        "arr[1::2] = -1\n",
        "arr"
      ],
      "metadata": {
        "colab": {
          "base_uri": "https://localhost:8080/"
        },
        "id": "O13hFuZE0bXn",
        "outputId": "8d2b832c-c075-46b4-c0e7-db2370bc573e"
      },
      "execution_count": 31,
      "outputs": [
        {
          "output_type": "execute_result",
          "data": {
            "text/plain": [
              "array([ 0, -1,  2, -1,  4, -1,  6, -1,  8, -1])"
            ]
          },
          "metadata": {},
          "execution_count": 31
        }
      ]
    },
    {
      "cell_type": "code",
      "source": [
        "import numpy as np\n",
        "\n",
        "arr = np.array([0, 1, 2, 3, 4, 5, 6, 7, 8, 9])\n",
        "\n",
        "# Create a copy of the array\n",
        "arr1 = arr[1::2].copy()\n",
        "\n",
        "# Replace odd numbers in the copied array with -1\n",
        "arr1[1::2] = -1\n",
        "\n",
        "# Print the modified array\n",
        "print(\"Modified Array:\", arr1)\n",
        "\n",
        "# Print the original array (unchanged)\n",
        "print(\"Original Array:\", arr)\n"
      ],
      "metadata": {
        "colab": {
          "base_uri": "https://localhost:8080/"
        },
        "id": "E8IUov6x05wg",
        "outputId": "e987d66e-1646-49e7-e793-3b0527b2ede1"
      },
      "execution_count": 36,
      "outputs": [
        {
          "output_type": "stream",
          "name": "stdout",
          "text": [
            "Modified Array: [ 1 -1  5 -1  9]\n",
            "Original Array: [0 1 2 3 4 5 6 7 8 9]\n"
          ]
        }
      ]
    },
    {
      "cell_type": "markdown",
      "source": [
        "\n",
        "\n",
        "---\n",
        "\n",
        "**7- Convert a 1D array to a 2D array with 2 rows**\n",
        "\n",
        "**Input:**\n",
        "\n",
        "np.arange(10)\n",
        "\n",
        "`array([ 0, 1, 2, 3, 4, 5, 6, 7, 8, 9])`\n",
        "\n",
        "\n",
        "**Desired Output:**\n",
        "```\n",
        "array([[0, 1, 2, 3, 4],\n",
        "[5, 6, 7, 8, 9]])\n",
        "```\n",
        "\n",
        "```\n",
        "# This is formatted as code\n",
        "```\n",
        "\n"
      ],
      "metadata": {
        "id": "yVFzKHdk00XN"
      }
    },
    {
      "cell_type": "code",
      "source": [
        "\n",
        "# Input 1D array\n",
        "input_array = np.arange(10)\n",
        "\n",
        "# Convert to a 2D array with 2 rows\n",
        "output_array = input_array.reshape(2, -1)\n",
        "\n",
        "# Print the result\n",
        "print(output_array)\n"
      ],
      "metadata": {
        "colab": {
          "base_uri": "https://localhost:8080/"
        },
        "id": "OnltIPhY1vfr",
        "outputId": "d621facf-db1b-495e-e075-4c8d83a01e58"
      },
      "execution_count": 40,
      "outputs": [
        {
          "output_type": "stream",
          "name": "stdout",
          "text": [
            "[[0 1 2 3 4]\n",
            " [5 6 7 8 9]]\n"
          ]
        }
      ]
    },
    {
      "cell_type": "code",
      "source": [
        "arr = ([ 0, 1, 2, 3, 4, 5, 6, 7, 8, 9])\n",
        "\n",
        "arr1= np.array(arr).reshape(2,-1)\n",
        "arr1"
      ],
      "metadata": {
        "colab": {
          "base_uri": "https://localhost:8080/"
        },
        "id": "aXkVd7-B2Tqc",
        "outputId": "c0d973b8-3c11-4b6d-d248-272a307e9742"
      },
      "execution_count": 43,
      "outputs": [
        {
          "output_type": "execute_result",
          "data": {
            "text/plain": [
              "array([[0, 1, 2, 3, 4],\n",
              "       [5, 6, 7, 8, 9]])"
            ]
          },
          "metadata": {},
          "execution_count": 43
        }
      ]
    },
    {
      "cell_type": "code",
      "source": [],
      "metadata": {
        "id": "1Yamdiaj2mXu"
      },
      "execution_count": null,
      "outputs": []
    }
  ]
}